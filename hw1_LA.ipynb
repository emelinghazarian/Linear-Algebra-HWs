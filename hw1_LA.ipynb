{
  "nbformat": 4,
  "nbformat_minor": 0,
  "metadata": {
    "colab": {
      "provenance": []
    },
    "kernelspec": {
      "name": "python3",
      "display_name": "Python 3"
    },
    "language_info": {
      "name": "python"
    }
  },
  "cells": [
    {
      "cell_type": "code",
      "source": [
        "test_string = \"C12H6 O2 C1O2 H2O1\"\n",
        "\n",
        "numbers = []\n",
        "for char in test_string:\n",
        "    if char.isdigit():\n",
        "        numbers.append(int(char))\n",
        "\n",
        "print(\"The numbers list is:\", numbers)"
      ],
      "metadata": {
        "colab": {
          "base_uri": "https://localhost:8080/"
        },
        "id": "FM7D6whWVniG",
        "outputId": "92c06400-ab1e-4b5b-ac56-2ea420dbb2ce"
      },
      "execution_count": 75,
      "outputs": [
        {
          "output_type": "stream",
          "name": "stdout",
          "text": [
            "The numbers list is: [1, 2, 6, 2, 1, 2, 2, 1]\n"
          ]
        }
      ]
    },
    {
      "cell_type": "code",
      "source": [
        "file = open(\"input.txt\", \"r\")\n",
        "content = file.read()\n",
        "print(content)\n",
        "file.close()"
      ],
      "metadata": {
        "colab": {
          "base_uri": "https://localhost:8080/"
        },
        "id": "UoDue5TrVzHl",
        "outputId": "841e28ea-8333-4a81-8d19-c3911775ade9"
      },
      "execution_count": 76,
      "outputs": [
        {
          "output_type": "stream",
          "name": "stdout",
          "text": [
            "C H O\n",
            "C2 H6 + O2 -> C O2 + H2 O\n"
          ]
        }
      ]
    },
    {
      "cell_type": "code",
      "source": [
        "with open('input.txt') as f:\n",
        "    first_line = f.readline()\n",
        "\n",
        "print(first_line)"
      ],
      "metadata": {
        "colab": {
          "base_uri": "https://localhost:8080/"
        },
        "id": "4HdC5_SIJjlE",
        "outputId": "36b2df3b-8e67-4839-e2e3-49dd83aed7da"
      },
      "execution_count": 77,
      "outputs": [
        {
          "output_type": "stream",
          "name": "stdout",
          "text": [
            "C H O\n",
            "\n"
          ]
        }
      ]
    },
    {
      "cell_type": "code",
      "source": [
        "with open('input.txt') as f:\n",
        "    Chemical_elements = f.readline().strip('\\n')\n",
        "\n",
        "print(Chemical_elements)"
      ],
      "metadata": {
        "colab": {
          "base_uri": "https://localhost:8080/"
        },
        "id": "1u4q34BnJ2sS",
        "outputId": "f106a3ee-dd99-4114-8b61-f02c7c57c025"
      },
      "execution_count": 78,
      "outputs": [
        {
          "output_type": "stream",
          "name": "stdout",
          "text": [
            "C H O\n"
          ]
        }
      ]
    },
    {
      "cell_type": "code",
      "source": [
        "f = open(\"input.txt\",'r')\n",
        "\n",
        "#read the second line of the file\n",
        "Chemical_equation = f.readlines()[1:2]\n",
        "print(Chemical_equation)\n",
        "\n",
        "#closes the file\n",
        "f.close()"
      ],
      "metadata": {
        "colab": {
          "base_uri": "https://localhost:8080/"
        },
        "id": "tUkkC8wQKpgd",
        "outputId": "131eff8f-ed85-4570-8dd0-940ca026e9cd"
      },
      "execution_count": 79,
      "outputs": [
        {
          "output_type": "stream",
          "name": "stdout",
          "text": [
            "['C2 H6 + O2 -> C O2 + H2 O']\n"
          ]
        }
      ]
    },
    {
      "cell_type": "code",
      "source": [
        "type(Chemical_equation)"
      ],
      "metadata": {
        "colab": {
          "base_uri": "https://localhost:8080/"
        },
        "id": "5REeMBJ2LemW",
        "outputId": "bab47e13-9d93-4d18-e77e-7840b859a6f3"
      },
      "execution_count": 80,
      "outputs": [
        {
          "output_type": "execute_result",
          "data": {
            "text/plain": [
              "list"
            ]
          },
          "metadata": {},
          "execution_count": 80
        }
      ]
    },
    {
      "cell_type": "markdown",
      "source": [
        "Parsing the input"
      ],
      "metadata": {
        "id": "rBldHbxIERul"
      }
    },
    {
      "cell_type": "code",
      "source": [
        "import numpy as np\n",
        "\n",
        "def parse_input(filename):\n",
        "    with open(filename, 'r') as file:\n",
        "        elements = file.readline().strip().split()  # Read elements from the first line\n",
        "        equation = file.readline().strip()  # Read chemical equation from the second line\n",
        "    return elements, equation\n",
        "\n",
        "import re\n",
        "def extract_species(species_str):\n",
        "    components = re.findall(r'([A-Za-z]+)(\\d*)', species_str)\n",
        "    species = {}\n",
        "    for element, count_str in components:\n",
        "        count = int(count_str) if count_str else 1\n",
        "        species[element] = count\n",
        "    return species\n",
        "\n",
        "def create_element_matrix(species, elements):\n",
        "    matrix = []\n",
        "    for element in elements:\n",
        "        count = species.get(element, 0)\n",
        "        matrix.append([count])\n",
        "    return np.array(matrix)\n",
        "\n",
        "def main():\n",
        "    filename = \"input.txt\"\n",
        "    elements, equation = parse_input(filename)\n",
        "\n",
        "    reactants_str, products_str = equation.split('->')\n",
        "    reactants = reactants_str.split('+')\n",
        "    products = products_str.split('+')\n",
        "\n",
        "    reactant_matrices = []\n",
        "    product_matrices = []\n",
        "\n",
        "    for reactant in reactants:\n",
        "        reactant_species = extract_species(reactant.strip())\n",
        "        reactant_matrices.append(create_element_matrix(reactant_species, elements))\n",
        "\n",
        "    max_reactant_rows = max(matrix.shape[0] for matrix in reactant_matrices)\n",
        "\n",
        "    for product in products:\n",
        "        product_species = extract_species(product.strip())\n",
        "        product_matrix = create_element_matrix(product_species, elements)\n",
        "        # Pad the product matrix with zeros to match the number of rows in the reactant matrices\n",
        "        padded_product_matrix = np.pad(product_matrix, ((0, max_reactant_rows - product_matrix.shape[0]), (0, 0)), 'constant')\n",
        "        # Multiply product matrix by -1 to make the elements negative\n",
        "        padded_product_matrix *= -1\n",
        "        product_matrices.append(padded_product_matrix)\n",
        "\n",
        "    # Concatenate matrices horizontally\n",
        "    combined_matrix = np.hstack(reactant_matrices + product_matrices)\n",
        "\n",
        "    # Add a column of zeros\n",
        "    zero_column = np.zeros((max_reactant_rows, 1))\n",
        "    combined_matrix = np.hstack((combined_matrix, zero_column))\n",
        "\n",
        "    return combined_matrix\n",
        "\n",
        "   # print(combined_matrix.shape, combined_matrix.size, combined_matrix.dtype)\n",
        ""
      ],
      "metadata": {
        "id": "7NLzQJNsfq6C"
      },
      "execution_count": 81,
      "outputs": []
    },
    {
      "cell_type": "markdown",
      "source": [
        "Augmented Matrix"
      ],
      "metadata": {
        "id": "gnzP7oqnENH3"
      }
    },
    {
      "cell_type": "code",
      "source": [
        "if __name__ == \"__main__\":\n",
        "    combined_matrix = main()\n",
        "    print(\"Combined Matrix:\")\n",
        "    print(combined_matrix)"
      ],
      "metadata": {
        "colab": {
          "base_uri": "https://localhost:8080/"
        },
        "id": "1xt5B3HEmFMZ",
        "outputId": "4d4f206f-d814-4ee2-c7c7-b90a8e4abc30"
      },
      "execution_count": 82,
      "outputs": [
        {
          "output_type": "stream",
          "name": "stdout",
          "text": [
            "Combined Matrix:\n",
            "[[ 2.  0. -1.  0.  0.]\n",
            " [ 6.  0.  0. -2.  0.]\n",
            " [ 0.  2. -2. -1.  0.]]\n"
          ]
        }
      ]
    },
    {
      "cell_type": "markdown",
      "source": [
        "Row Reduction Algorithm"
      ],
      "metadata": {
        "id": "6Ds3zZCxECf_"
      }
    },
    {
      "cell_type": "code",
      "source": [
        "import numpy as np\n",
        "\n",
        "# Function to apply row reduction (Gaussian elimination)\n",
        "def row_reduction(matrix):\n",
        "    m, n = matrix.shape\n",
        "    i = 0\n",
        "    for j in range(n):\n",
        "        pivot_row = i\n",
        "        # Find the pivot element\n",
        "        while pivot_row < m and matrix[pivot_row, j] == 0:\n",
        "            pivot_row += 1\n",
        "        if pivot_row == m:\n",
        "            continue  # If pivot is zero, move to the next column\n",
        "        # Swap rows to bring pivot element to the current row\n",
        "        matrix[[i, pivot_row]] = matrix[[pivot_row, i]]\n",
        "        # Make the pivot element 1\n",
        "        matrix[i] /= matrix[i, j]\n",
        "        # Make all other elements in the current column zero\n",
        "        for k in range(m):\n",
        "            if k != i:\n",
        "                matrix[k] -= matrix[k, j] * matrix[i]\n",
        "        i += 1\n",
        "        if i == m:\n",
        "            break\n",
        "    return matrix\n",
        "\n",
        "# Example usage\n",
        "if __name__ == \"__main__\":\n",
        "    combined_matrix = main()\n",
        "    print(\"Original Matrix:\")\n",
        "    print(combined_matrix)\n",
        "    reduced_matrix = row_reduction(combined_matrix)\n",
        "    print(\"\\nRow-Reduced Matrix:\")\n",
        "    print(reduced_matrix)\n"
      ],
      "metadata": {
        "colab": {
          "base_uri": "https://localhost:8080/"
        },
        "id": "yxv2j-DNgdvM",
        "outputId": "e4601b9c-0484-4ccd-d961-dc5b708963e3"
      },
      "execution_count": 83,
      "outputs": [
        {
          "output_type": "stream",
          "name": "stdout",
          "text": [
            "Original Matrix:\n",
            "[[ 2.  0. -1.  0.  0.]\n",
            " [ 6.  0.  0. -2.  0.]\n",
            " [ 0.  2. -2. -1.  0.]]\n",
            "\n",
            "Row-Reduced Matrix:\n",
            "[[ 1.          0.          0.         -0.33333333  0.        ]\n",
            " [ 0.          1.          0.         -1.16666667  0.        ]\n",
            " [ 0.          0.          1.         -0.66666667  0.        ]]\n"
          ]
        }
      ]
    },
    {
      "cell_type": "markdown",
      "source": [
        "find basic and free variables and solve the linear equation"
      ],
      "metadata": {
        "id": "y6pnFg_gD32n"
      }
    },
    {
      "cell_type": "code",
      "source": [
        "import numpy as np\n",
        "\n",
        "def find_basic_and_free_variables(matrix):\n",
        "    m, n = matrix.shape\n",
        "    basic_indices = []\n",
        "    free_indices = []\n",
        "    for j in range(n - 1):  # Exclude the last column (the augmented column)\n",
        "        column = matrix[:, j]\n",
        "        if np.count_nonzero(column) == 1 and np.argmax(column) == j:\n",
        "            basic_indices.append(j)\n",
        "        else:\n",
        "            free_indices.append(j)\n",
        "    return basic_indices, free_indices\n",
        "\n",
        "import numpy as np\n",
        "\n",
        "def find_general_solution(matrix, basic_indices, free_indices):\n",
        "    num_variables = matrix.shape[1] - 1  # Exclude the augmented column\n",
        "    general_solution = {}\n",
        "\n",
        "    # Loop through basic indices\n",
        "    for i, basic_index in enumerate(basic_indices):\n",
        "        variable_name = f'X{basic_index+1}'  # Basic variables are named as X1, X2, ...\n",
        "\n",
        "        # Initialize the expression for the variable\n",
        "        variable_expression = f\"{matrix[i, -1]}\"\n",
        "\n",
        "        # Loop through free indices to add terms corresponding to free variables\n",
        "        for j, free_index in enumerate(free_indices):\n",
        "            if matrix[i, free_index] != 0:\n",
        "                coefficient = matrix[i, free_index] / matrix[i, basic_index]\n",
        "                variable_expression += f\" + ({-coefficient} * X{free_index+1})\"\n",
        "\n",
        "        general_solution[variable_name] = variable_expression\n",
        "\n",
        "    return general_solution\n",
        "\n",
        "# Example usage\n",
        "if __name__ == \"__main__\":\n",
        "    combined_matrix = main()\n",
        "    reduced_matrix = row_reduction(combined_matrix)\n",
        "\n",
        "    print(basic_indices)\n",
        "    print(free_indices)\n",
        "    general_solution = find_general_solution(reduced_matrix, basic_indices, free_indices)\n",
        "    print(\"\\nGeneral Solution:\")\n",
        "    for variable, expression in general_solution.items():\n",
        "        print(f\"{variable} = {expression}\")\n",
        "\n"
      ],
      "metadata": {
        "colab": {
          "base_uri": "https://localhost:8080/"
        },
        "id": "yENX96kqoLTa",
        "outputId": "8e6bb4ae-8154-438f-fae3-d335d56a5afc"
      },
      "execution_count": 84,
      "outputs": [
        {
          "output_type": "stream",
          "name": "stdout",
          "text": [
            "[0, 1, 2]\n",
            "[3]\n",
            "\n",
            "General Solution:\n",
            "X1 = 0.0 + (0.3333333333333333 * X4)\n",
            "X2 = 0.0 + (1.1666666666666665 * X4)\n",
            "X3 = 0.0 + (0.6666666666666666 * X4)\n"
          ]
        }
      ]
    },
    {
      "cell_type": "code",
      "source": [],
      "metadata": {
        "id": "wXgw9JRP4IhC"
      },
      "execution_count": 84,
      "outputs": []
    }
  ]
}