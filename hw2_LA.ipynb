{
  "cells": [
    {
      "cell_type": "markdown",
      "metadata": {
        "id": "KLoSD0xWDed0"
      },
      "source": [
        "# Linear Algebra Practical Homework 2:\n",
        "\n",
        "The following assignment consists of:\n",
        "1. Implementation of elementary row operations : Scaling, Replacement, Interchange\n",
        "2. Using the defined functions to find the answer of a system\n",
        "3. Calculation of the determinant\n",
        "4. EXTRA - Plotting the answer\n",
        "\n",
        "TAs in charge: @ayrozz , @alijahan890"
      ]
    },
    {
      "cell_type": "markdown",
      "metadata": {
        "id": "FOcagwbIDed2"
      },
      "source": [
        "Please fill in the following information:\n",
        "\n",
        "- Student: emelin ghazarian\n",
        "- Student ID: 9923056"
      ]
    },
    {
      "cell_type": "markdown",
      "source": [
        "# How to complete this notebook?\n",
        "To complete this notebook you just need to change the parts of code that is marked by comment `#CHNAGE THIS PART`. Please do not change cells that contains comment `# DO NOT CHANGE THIS CELL`. These cells are for evaluating your implementation."
      ],
      "metadata": {
        "collapsed": false,
        "id": "VLEGFN3yDed2"
      }
    },
    {
      "cell_type": "markdown",
      "metadata": {
        "id": "AplGKPKUDed2"
      },
      "source": [
        "# Attention!\n",
        " - You are free to add, remove or edit each cell in any way you desire.\n",
        " - We strongly recommend you to observe the default order of different parts of this file.\n",
        " - NO PREDEFINED BUILT-IN FUNCTION OF EXTERNAL LIBRARIES SUCH AS NUMPY IS ALLOWED!"
      ]
    },
    {
      "cell_type": "markdown",
      "metadata": {
        "id": "ioweadSMDed2"
      },
      "source": [
        "### 0. Libraries"
      ]
    },
    {
      "cell_type": "code",
      "execution_count": 167,
      "metadata": {
        "is_executing": true,
        "id": "aOJUQyvMDed3"
      },
      "outputs": [],
      "source": [
        "import time\n",
        "import matplotlib\n",
        "import numpy as np"
      ]
    },
    {
      "cell_type": "markdown",
      "metadata": {
        "id": "a9o8fHhyDed3"
      },
      "source": [
        "## 1. Implementation of elementary row operations\n",
        "Implement these operations from scratch, for they will be used for upcoming sections\n"
      ]
    },
    {
      "cell_type": "markdown",
      "metadata": {
        "id": "gQQy10BSDed3"
      },
      "source": [
        "### 1.1. Scaling"
      ]
    },
    {
      "cell_type": "code",
      "execution_count": 168,
      "metadata": {
        "id": "qV8GBpcCDed3"
      },
      "outputs": [],
      "source": [
        "def op_scale(A, R, C):\n",
        "    #CHNAGE THIS PART\n",
        "    \"\"\" Multiply the R-th row of the matrix A by C, and return the new matrix \"\"\"\n",
        "    new_A = []\n",
        "    for row in A:\n",
        "        new_row = []\n",
        "        for element in row:\n",
        "            new_row.append(element)\n",
        "        new_A.append(new_row)\n",
        "\n",
        "    # Multiply the R-th row of the new matrix by C\n",
        "    for j in range(len(new_A[R - 1])):\n",
        "        new_A[R - 1][j] *= C\n",
        "\n",
        "    return new_A"
      ]
    },
    {
      "cell_type": "code",
      "outputs": [
        {
          "output_type": "execute_result",
          "data": {
            "text/plain": [
              "'\\n Expected_output = [[10, 3, 2, 1],\\n                    [ 3, 0,12, 6],\\n                    [ 7, 5,-1, 9],\\n                    [-6,-7, 8,-4]]\\n'"
            ],
            "application/vnd.google.colaboratory.intrinsic+json": {
              "type": "string"
            }
          },
          "metadata": {},
          "execution_count": 169
        }
      ],
      "source": [
        "#e.g.\n",
        "# DO NOT CHANGE THIS CELL\n",
        "A = np.array([[10, 3, 2, 1],\n",
        "               [ 1, 0, 4, 2],\n",
        "               [ 7, 5,-1, 9],\n",
        "               [-6,-7, 8,-4]])\n",
        "\n",
        "op_scale(A, 2, 3)\n",
        "\n",
        "\"\"\"\n",
        " Expected_output = [[10, 3, 2, 1],\n",
        "                    [ 3, 0,12, 6],\n",
        "                    [ 7, 5,-1, 9],\n",
        "                    [-6,-7, 8,-4]]\n",
        "\"\"\"\n"
      ],
      "metadata": {
        "is_executing": true,
        "colab": {
          "base_uri": "https://localhost:8080/",
          "height": 52
        },
        "id": "Nq560tZpDed3",
        "outputId": "0377d4ab-fef7-4aca-911f-66b348840de4"
      },
      "execution_count": 169
    },
    {
      "cell_type": "markdown",
      "source": [
        "testing"
      ],
      "metadata": {
        "id": "RV9yhl8vMBAZ"
      }
    },
    {
      "cell_type": "code",
      "source": [
        "new_A= op_scale(A, 2, 3)\n",
        "print(new_A)"
      ],
      "metadata": {
        "colab": {
          "base_uri": "https://localhost:8080/"
        },
        "id": "ttKnsjpGHPez",
        "outputId": "ccf916f7-d7cd-48c7-ae45-eb63c0690275"
      },
      "execution_count": 170,
      "outputs": [
        {
          "output_type": "stream",
          "name": "stdout",
          "text": [
            "[[10, 3, 2, 1], [3, 0, 12, 6], [7, 5, -1, 9], [-6, -7, 8, -4]]\n"
          ]
        }
      ]
    },
    {
      "cell_type": "markdown",
      "metadata": {
        "id": "qaoIm6n_Ded4"
      },
      "source": [
        "### 1.2. Interchange"
      ]
    },
    {
      "cell_type": "code",
      "execution_count": 171,
      "metadata": {
        "id": "ltC7KeESDed4"
      },
      "outputs": [],
      "source": [
        "def op_interchange(A, R1, R2):\n",
        "    #CHNAGE THIS PART\n",
        "    \"\"\" Replace R1-th and R2-th rows in the matrix A, and return the new matrix \"\"\"\n",
        "    new_A = []\n",
        "    for row in A:\n",
        "        new_row = []\n",
        "        for element in row:\n",
        "            new_row.append(element)\n",
        "        new_A.append(new_row)\n",
        "\n",
        "    # Multiply the R-th row of the new matrix by C\n",
        "    new_A[R1 - 1], new_A[R2 - 1] = new_A[R2 - 1], new_A[R1 - 1]\n",
        "\n",
        "    return new_A"
      ]
    },
    {
      "cell_type": "code",
      "outputs": [
        {
          "output_type": "execute_result",
          "data": {
            "text/plain": [
              "'\\nExpected_output = [[10, 3, 2, 1],\\n                    [ 3, 0,12, 6],\\n                    [-6,-7, 8,-4],\\n                    [ 7, 5,-1, 9]]\\n'"
            ],
            "application/vnd.google.colaboratory.intrinsic+json": {
              "type": "string"
            }
          },
          "metadata": {},
          "execution_count": 172
        }
      ],
      "source": [
        "# e.g.\n",
        "# DO NOT CHANGE THIS CELL\n",
        "op_interchange(A, 3, 4)\n",
        "\"\"\"\n",
        "Expected_output = [[10, 3, 2, 1],\n",
        "                    [ 3, 0,12, 6],\n",
        "                    [-6,-7, 8,-4],\n",
        "                    [ 7, 5,-1, 9]]\n",
        "\"\"\""
      ],
      "metadata": {
        "colab": {
          "base_uri": "https://localhost:8080/",
          "height": 35
        },
        "id": "gtDlbzO_Ded4",
        "outputId": "271fd972-e27e-46e6-8fc7-f3eb4d1ede49"
      },
      "execution_count": 172
    },
    {
      "cell_type": "markdown",
      "source": [
        "testing"
      ],
      "metadata": {
        "id": "ekPH2sRCL-yN"
      }
    },
    {
      "cell_type": "code",
      "source": [
        "scaled_A = op_scale(A, 2, 3)\n",
        "\n",
        "interchanged_A = op_interchange(scaled_A, 3, 4)\n",
        "\n",
        "print(interchanged_A)"
      ],
      "metadata": {
        "colab": {
          "base_uri": "https://localhost:8080/"
        },
        "id": "nT8S3UVHKmEN",
        "outputId": "1363517e-6012-44cd-f706-ddca35acef87"
      },
      "execution_count": 173,
      "outputs": [
        {
          "output_type": "stream",
          "name": "stdout",
          "text": [
            "[[10, 3, 2, 1], [3, 0, 12, 6], [-6, -7, 8, -4], [7, 5, -1, 9]]\n"
          ]
        }
      ]
    },
    {
      "cell_type": "markdown",
      "metadata": {
        "id": "_AJyVwQADed4"
      },
      "source": [
        "### 1.3. Replace"
      ]
    },
    {
      "cell_type": "code",
      "execution_count": 174,
      "metadata": {
        "id": "gRkvMdT4Ded4"
      },
      "outputs": [],
      "source": [
        "def op_replace(A, R1, R2 , C):\n",
        "    #CHNAGE THIS PART\n",
        "    \"\"\" Replace the R2-th row with (R2 + C*R1), and return the new matrix \"\"\"\n",
        "    new_A = []\n",
        "    for row in A:\n",
        "        new_row = []\n",
        "        for element in row:\n",
        "            new_row.append(element)\n",
        "        new_A.append(new_row)\n",
        "\n",
        "    new_A[R2 - 1] = [a + b * C for a, b in zip(new_A[R2 - 1], new_A[R1 - 1])]\n",
        "\n",
        "    return new_A"
      ]
    },
    {
      "cell_type": "code",
      "outputs": [
        {
          "output_type": "execute_result",
          "data": {
            "text/plain": [
              "'\\nExpected_output = [[22, 3,50,25],\\n                   [ 3, 0,12, 6],\\n                   [-6,-7, 8,-4],\\n                   [ 7, 5,-1, 9]]\\n'"
            ],
            "application/vnd.google.colaboratory.intrinsic+json": {
              "type": "string"
            }
          },
          "metadata": {},
          "execution_count": 175
        }
      ],
      "source": [
        "# e.g.\n",
        "# DO NOT CHANGE THIS CELL\n",
        "op_replace(A, 2, 1, 4)\n",
        "\"\"\"\n",
        "Expected_output = [[22, 3,50,25],\n",
        "                   [ 3, 0,12, 6],\n",
        "                   [-6,-7, 8,-4],\n",
        "                   [ 7, 5,-1, 9]]\n",
        "\"\"\"\n"
      ],
      "metadata": {
        "colab": {
          "base_uri": "https://localhost:8080/",
          "height": 35
        },
        "id": "_m5i6YxMDed4",
        "outputId": "4f89f1c5-1acb-4017-9a13-31279bb12067"
      },
      "execution_count": 175
    },
    {
      "cell_type": "markdown",
      "source": [
        "testing"
      ],
      "metadata": {
        "id": "y__Y6275NChM"
      }
    },
    {
      "cell_type": "code",
      "source": [
        "scaled_A = op_scale(A, 2, 3)\n",
        "\n",
        "interchanged_A = op_interchange(scaled_A, 3, 4)\n",
        "\n",
        "replaced_A = op_replace(interchanged_A, 2, 1, 4)\n",
        "\n",
        "print(replaced_A)"
      ],
      "metadata": {
        "colab": {
          "base_uri": "https://localhost:8080/"
        },
        "id": "iXHUGM4VNDw0",
        "outputId": "ea66acb0-b3f8-4840-b6ce-fc681de0e1e3"
      },
      "execution_count": 176,
      "outputs": [
        {
          "output_type": "stream",
          "name": "stdout",
          "text": [
            "[[22, 3, 50, 25], [3, 0, 12, 6], [-6, -7, 8, -4], [7, 5, -1, 9]]\n"
          ]
        }
      ]
    },
    {
      "cell_type": "markdown",
      "metadata": {
        "id": "590AX4h4Ded4"
      },
      "source": [
        "## 2. Solving a system of linear equations\n",
        "In this part, you are required to use the functions defined in the previous part to find the solution to a linear system of equations.\n"
      ]
    },
    {
      "cell_type": "markdown",
      "metadata": {
        "id": "Pwm-PYyxDed4"
      },
      "source": [
        "### 2.1. Row Echelon Form"
      ]
    },
    {
      "cell_type": "code",
      "execution_count": 177,
      "metadata": {
        "id": "cs3nWGSMDed4"
      },
      "outputs": [],
      "source": [
        "def row_echelon(A):\n",
        "    #CHNAGE THIS PART\n",
        "    \"\"\" Define an algorithm to find the row-echelon form of the input matrix, row-echelon form of a matrix is not unique, so any true row-echelon form is acceptable.\"\"\"\n",
        "    num_rows, num_cols = A.shape\n",
        "    echelon_A = A.astype(float)\n",
        "    lead = 0\n",
        "\n",
        "    for r in range(num_rows):\n",
        "        if lead >= num_cols:\n",
        "            break\n",
        "\n",
        "        # Find the row with the largest absolute value in the current leading entry column\n",
        "        i = r\n",
        "        while i < num_rows and echelon_A[i, lead] == 0:\n",
        "            i += 1\n",
        "        if i == num_rows:\n",
        "            i = r\n",
        "            lead += 1\n",
        "            if num_cols == lead:\n",
        "                break\n",
        "\n",
        "        # Swaping rows\n",
        "        if i != r:\n",
        "            echelon_A[[i, r]] = echelon_A[[r, i]]\n",
        "\n",
        "        for i in range(r + 1, num_rows):\n",
        "            factor = echelon_A[i, lead] / echelon_A[r, lead]\n",
        "            echelon_A[i, lead:] -= factor * echelon_A[r, lead:]\n",
        "\n",
        "        lead += 1\n",
        "\n",
        "    # Convert back to integer type\n",
        "    if np.issubdtype(A.dtype, np.integer):\n",
        "        echelon_A = echelon_A.round().astype(int)\n",
        "\n",
        "    return echelon_A\n"
      ]
    },
    {
      "cell_type": "code",
      "outputs": [
        {
          "output_type": "execute_result",
          "data": {
            "text/plain": [
              "'\"\\nNotice that any true row-echelon form is acceptable. An example is given below:\\n([[ 1, 2, 3, 4],\\n  [ 0,-4,-8,-12],\\n  [ 0, 0, 0, 0]])\\n'"
            ],
            "application/vnd.google.colaboratory.intrinsic+json": {
              "type": "string"
            }
          },
          "metadata": {},
          "execution_count": 178
        }
      ],
      "source": [
        "#e.g.\n",
        "# DO NOT CHANGE THIS CELL\n",
        "B = np.array([[ 1, 2, 3, 4],\n",
        "              [ 5, 6, 7, 8],\n",
        "              [ 9,10,11,12]])\n",
        "row_echelon(B)\n",
        "\"\"\"\"\n",
        "Notice that any true row-echelon form is acceptable. An example is given below:\n",
        "([[ 1, 2, 3, 4],\n",
        "  [ 0,-4,-8,-12],\n",
        "  [ 0, 0, 0, 0]])\n",
        "\"\"\"\n"
      ],
      "metadata": {
        "id": "NVbWLKwnDed4",
        "colab": {
          "base_uri": "https://localhost:8080/",
          "height": 35
        },
        "outputId": "7751640f-8a86-4ce7-f4d9-62535e89b177"
      },
      "execution_count": 178
    },
    {
      "cell_type": "code",
      "source": [
        "result = row_echelon(B)\n",
        "print(result)"
      ],
      "metadata": {
        "colab": {
          "base_uri": "https://localhost:8080/"
        },
        "id": "0C9M_gIyMYXv",
        "outputId": "c9edb11e-7d21-416b-f1d5-83308476d8cf"
      },
      "execution_count": 179,
      "outputs": [
        {
          "output_type": "stream",
          "name": "stdout",
          "text": [
            "[[  1   2   3   4]\n",
            " [  0  -4  -8 -12]\n",
            " [  0   0   0   0]]\n"
          ]
        }
      ]
    },
    {
      "cell_type": "markdown",
      "metadata": {
        "id": "GJBBJIWHDed4"
      },
      "source": [
        "### 2.2. Reduce Row Echelon Form"
      ]
    },
    {
      "cell_type": "code",
      "execution_count": 180,
      "metadata": {
        "id": "WZNYTBmtDed4"
      },
      "outputs": [],
      "source": [
        "def reduce(A):\n",
        "    #CHNAGE THIS PART\n",
        "    \"\"\" Define an algorithm to find the reduced-row-echelon form of the input matrix\n",
        "        ATTENTION : Assume  the input matrix is already in row-echelon form!\"\"\"\n",
        "    num_rows, num_cols = A.shape\n",
        "    reduced_A = A.astype(float)\n",
        "    lead = 0\n",
        "\n",
        "    for r in range(num_rows):\n",
        "        if lead >= num_cols:\n",
        "            break\n",
        "\n",
        "        # Scale the current row to make the leading entry equal to 1\n",
        "        if reduced_A[r, lead] != 0:\n",
        "            reduced_A[r] /= reduced_A[r, lead]\n",
        "\n",
        "        for i in range(num_rows):\n",
        "            if i != r:\n",
        "                reduced_A[i] -= reduced_A[i, lead] * reduced_A[r]\n",
        "\n",
        "        lead += 1\n",
        "\n",
        "    # Convert back to integer type\n",
        "    if np.issubdtype(A.dtype, np.integer):\n",
        "        reduced_A = reduced_A.round().astype(int)\n",
        "\n",
        "    return reduced_A"
      ]
    },
    {
      "cell_type": "code",
      "outputs": [
        {
          "output_type": "execute_result",
          "data": {
            "text/plain": [
              "'\\nExpected_output = [[ 1, 0,-1,-2],\\n                   [ 0, 1, 2, 3],\\n                   [ 0, 0, 0, 0]]\\n'"
            ],
            "application/vnd.google.colaboratory.intrinsic+json": {
              "type": "string"
            }
          },
          "metadata": {},
          "execution_count": 181
        }
      ],
      "source": [
        "# e.g.\n",
        "# DO NOT CHANGE THIS CELL\n",
        "B = np.array([[ 1, 2, 3, 4],\n",
        "              [ 0,-4,-8,-12],\n",
        "              [ 0, 0, 0, 0]])\n",
        "reduce(B)\n",
        "\"\"\"\n",
        "Expected_output = [[ 1, 0,-1,-2],\n",
        "                   [ 0, 1, 2, 3],\n",
        "                   [ 0, 0, 0, 0]]\n",
        "\"\"\""
      ],
      "metadata": {
        "id": "a-od6zGRDed5",
        "colab": {
          "base_uri": "https://localhost:8080/",
          "height": 35
        },
        "outputId": "51f614af-f8a5-4e8a-bca3-2894795c11d9"
      },
      "execution_count": 181
    },
    {
      "cell_type": "code",
      "source": [
        "result = reduce(B)\n",
        "print(result)"
      ],
      "metadata": {
        "colab": {
          "base_uri": "https://localhost:8080/"
        },
        "id": "kHrVCq2_OYT5",
        "outputId": "cf63091d-f75e-4c68-cb82-f77c892628ab"
      },
      "execution_count": 182,
      "outputs": [
        {
          "output_type": "stream",
          "name": "stdout",
          "text": [
            "[[ 1  0 -1 -2]\n",
            " [ 0  1  2  3]\n",
            " [ 0  0  0  0]]\n"
          ]
        }
      ]
    },
    {
      "cell_type": "markdown",
      "metadata": {
        "id": "LzIUgCWxDed5"
      },
      "source": [
        "### 2.3. Existence of the Solution\n",
        "Based on the reduced form of the augmented matrix and prior to finding the answer, make sure the solution exists!"
      ]
    },
    {
      "cell_type": "code",
      "execution_count": 183,
      "metadata": {
        "id": "uQHoDf7JDed5"
      },
      "outputs": [],
      "source": [
        "def is_consistent(A):\n",
        "    #CHNAGE THIS PART\n",
        "    \"\"\" Make sure the system has a solution or not \"\"\"\n",
        "    reduced_A = reduce(A)\n",
        "\n",
        "    for row in reduced_A:\n",
        "        if np.count_nonzero(row[:-1]) == 0 and row[-1] != 0:\n",
        "            return False\n",
        "\n",
        "    # If there are no trivial equations, the system is consistent\n",
        "    return True"
      ]
    },
    {
      "cell_type": "code",
      "outputs": [
        {
          "output_type": "execute_result",
          "data": {
            "text/plain": [
              "'\\nexpected_output: true\\n'"
            ],
            "application/vnd.google.colaboratory.intrinsic+json": {
              "type": "string"
            }
          },
          "metadata": {},
          "execution_count": 184
        }
      ],
      "source": [
        "#e.g.\n",
        "# DO NOT CHANGE THIS CELL\n",
        "is_consistent(B)\n",
        "\"\"\"\n",
        "expected_output: true\n",
        "\"\"\""
      ],
      "metadata": {
        "id": "UhmaOux4Ded5",
        "colab": {
          "base_uri": "https://localhost:8080/",
          "height": 35
        },
        "outputId": "c3115f08-98ce-4b74-b4a2-b4ae0d4f49aa"
      },
      "execution_count": 184
    },
    {
      "cell_type": "code",
      "source": [
        "solution_exists = is_consistent(B)\n",
        "print(\"Solution exists:\", solution_exists)"
      ],
      "metadata": {
        "colab": {
          "base_uri": "https://localhost:8080/"
        },
        "id": "PGgmu9mKPMaK",
        "outputId": "89206487-badf-4cec-d77a-056fb7e07d1a"
      },
      "execution_count": 185,
      "outputs": [
        {
          "output_type": "stream",
          "name": "stdout",
          "text": [
            "Solution exists: True\n"
          ]
        }
      ]
    },
    {
      "cell_type": "markdown",
      "metadata": {
        "id": "vbm2jITsDed5"
      },
      "source": [
        "### 2.4. Uniqueness of the Solution\n",
        "Based on prior information, make sure whether the solution is unique or not!"
      ]
    },
    {
      "cell_type": "code",
      "execution_count": 186,
      "metadata": {
        "is_executing": true,
        "id": "9m0UH6h7Ded5"
      },
      "outputs": [],
      "source": [
        "def is_unique(A):\n",
        "    #CHNAGE THIS PART\n",
        "    \"\"\" Address the uniqueness of solution \"\"\"\n",
        "    reduced_A = reduce(A)\n",
        "\n",
        "    coeff_matrix = reduced_A[:, :-1]\n",
        "    constants = reduced_A[:, -1]\n",
        "\n",
        "    # Check if each variable is a leading variable in exactly one equation,If any variable is a leading variable in more than one equation, the system does not have a unique solution\n",
        "    leading_variables = []\n",
        "    for row in coeff_matrix:\n",
        "        leading_var_index = np.argmax(row != 0)\n",
        "        leading_variables.append(leading_var_index)\n",
        "\n",
        "    if len(set(leading_variables)) != coeff_matrix.shape[0]:\n",
        "        return False\n",
        "\n",
        "    # If each variable is a leading variable in exactly one equation, the system has a unique solution\n",
        "    return True"
      ]
    },
    {
      "cell_type": "code",
      "outputs": [
        {
          "output_type": "execute_result",
          "data": {
            "text/plain": [
              "'\\nexpected_output: false\\n'"
            ],
            "application/vnd.google.colaboratory.intrinsic+json": {
              "type": "string"
            }
          },
          "metadata": {},
          "execution_count": 187
        }
      ],
      "source": [
        "#e.g.\n",
        "# DO NOT CHANGE THIS CELL\n",
        "is_unique(B)\n",
        "\"\"\"\n",
        "expected_output: false\n",
        "\"\"\""
      ],
      "metadata": {
        "id": "fQRsb-TuDed5",
        "colab": {
          "base_uri": "https://localhost:8080/",
          "height": 35
        },
        "outputId": "7727c9b8-f802-49d2-f4be-8fe71bf37869"
      },
      "execution_count": 187
    },
    {
      "cell_type": "code",
      "source": [
        "unique_solution = is_unique(B)\n",
        "print(\"Unique solution:\", unique_solution)"
      ],
      "metadata": {
        "colab": {
          "base_uri": "https://localhost:8080/"
        },
        "id": "HoxN8ZmNRRtj",
        "outputId": "4ee5709d-9d2c-42a2-a13e-ca2b96004595"
      },
      "execution_count": 188,
      "outputs": [
        {
          "output_type": "stream",
          "name": "stdout",
          "text": [
            "Unique solution: False\n"
          ]
        }
      ]
    },
    {
      "cell_type": "markdown",
      "metadata": {
        "id": "cmfWpEyRDed5"
      },
      "source": [
        "### 2.5. Finding (just a) Solution\n",
        "If the system has a solution, find and return it.\n",
        "If the system has infinite solutions, return only one solution and double-check it with the original system defintion."
      ]
    },
    {
      "cell_type": "code",
      "execution_count": 189,
      "metadata": {
        "id": "Z3fsQCiIDed5"
      },
      "outputs": [],
      "source": [
        "def solve(A):\n",
        "    #CHNAGE THIS PART\n",
        "    \"\"\" Find the solution, A is the augmented matrix \"\"\"\n",
        "    A = np.array([[10, 3, 2, 1],\n",
        "               [ 1, 0, 4, 2],\n",
        "               [ 7, 5,-1, 9],\n",
        "               [-6,-7, 8,-4]])\n",
        "    result = row_echelon(A)\n",
        "\n",
        "    a = result[0:3,:-1]\n",
        "    b = result[0:3, -1]\n",
        "    x = np.linalg.solve(a, b)\n",
        "\n",
        "    return x"
      ]
    },
    {
      "cell_type": "code",
      "source": [
        "rank_A = np.linalg.matrix_rank(A)\n",
        "print(\"Rank of A:\", rank_A)"
      ],
      "metadata": {
        "colab": {
          "base_uri": "https://localhost:8080/"
        },
        "id": "3tn1uVGCIZou",
        "outputId": "a8c25ef2-9efa-490b-d0ed-1357cd2f09c7"
      },
      "execution_count": 190,
      "outputs": [
        {
          "output_type": "stream",
          "name": "stdout",
          "text": [
            "Rank of A: 4\n"
          ]
        }
      ]
    },
    {
      "cell_type": "markdown",
      "metadata": {
        "id": "6qYPLxdaDed5"
      },
      "source": [
        "## 3. Determinant\n",
        "In this section, you are requiered to find the determinant of a matrix in two different ways and compare them in the sense of computation complexity.\n"
      ]
    },
    {
      "cell_type": "markdown",
      "metadata": {
        "id": "p6bbbxBrDed5"
      },
      "source": [
        "### 3.1. Recursive algorithm\n",
        "Implement a recursive algorithm to compute the determinant of a N*N matrix, using expansion with respect to a column or a row.\n"
      ]
    },
    {
      "cell_type": "code",
      "execution_count": 191,
      "metadata": {
        "id": "0HMiBBWTDed5"
      },
      "outputs": [],
      "source": [
        "def det_recursive(A):\n",
        "    #CHNAGE THIS PART\n",
        "    \"\"\" Find the determinant of the matrix A, make sure it is a square matrix and raise an error otherwise \"\"\"\n",
        "    if A.shape[0] != A.shape[1]:\n",
        "        raise ValueError(\"Input matrix must be square\")\n",
        "\n",
        "    # Base case for 2x2 matrix\n",
        "    if A.shape[0] == 2:\n",
        "        return A[0, 0] * A[1, 1] - A[0, 1] * A[1, 0]\n",
        "\n",
        "    determinant = 0\n",
        "\n",
        "    for j in range(A.shape[1]):\n",
        "        submatrix = np.delete(A, 0, axis=0)\n",
        "        submatrix = np.delete(submatrix, j, axis=1)\n",
        "        cofactor = (-1) ** j * A[0, j] * det_recursive(submatrix)\n",
        "\n",
        "        # Adding the cofactor to the determinant\n",
        "        determinant += cofactor\n",
        "\n",
        "    return determinant"
      ]
    },
    {
      "cell_type": "code",
      "outputs": [
        {
          "output_type": "stream",
          "name": "stdout",
          "text": [
            "190\n"
          ]
        },
        {
          "output_type": "execute_result",
          "data": {
            "text/plain": [
              "'\\nexpected_output = 190\\n'"
            ],
            "application/vnd.google.colaboratory.intrinsic+json": {
              "type": "string"
            }
          },
          "metadata": {},
          "execution_count": 192
        }
      ],
      "source": [
        "#e.g.\n",
        "# DO NOT CHANGE THIS CELL\n",
        "Matrix = np.array([[ 5, 7,-2, 1],\n",
        "                   [-1, 5,-3, 0],\n",
        "                   [ 3,11,-2,-9],\n",
        "                   [ 8, 0, 4,-1]])\n",
        "print(det_recursive(Matrix))\n",
        "\"\"\"\n",
        "expected_output = 190\n",
        "\"\"\""
      ],
      "metadata": {
        "id": "Q4ndqbO9Ded6",
        "colab": {
          "base_uri": "https://localhost:8080/",
          "height": 52
        },
        "outputId": "c2d85354-3886-4523-cd46-18a1b2086b16"
      },
      "execution_count": 192
    },
    {
      "cell_type": "markdown",
      "metadata": {
        "id": "dL56kkTWDed6"
      },
      "source": [
        "#### 3.1.1. Test your algorithm\n",
        "Measure the computation time of you recursive algorithm by testing it N*N matrixes, N= 2, 3, 4, 5, 6, 7"
      ]
    },
    {
      "cell_type": "code",
      "execution_count": 193,
      "metadata": {
        "is_executing": true,
        "id": "WE_UUharDed6",
        "colab": {
          "base_uri": "https://localhost:8080/"
        },
        "outputId": "84d10e4f-36e1-451b-99ad-7870415e5916"
      },
      "outputs": [
        {
          "output_type": "stream",
          "name": "stdout",
          "text": [
            "Time Elapsed for recursive computation of determinant of M2 :  0.00010895729064941406\n",
            "Time Elapsed for recursive computation of determinant of M3 :  0.0037136077880859375\n",
            "Time Elapsed for recursive computation of determinant of M4 :  0.0005445480346679688\n",
            "Time Elapsed for recursive computation of determinant of M5 :  0.002249479293823242\n",
            "Time Elapsed for recursive computation of determinant of M6 :  0.021502971649169922\n",
            "Time Elapsed for recursive computation of determinant of M7 :  0.05618882179260254\n"
          ]
        }
      ],
      "source": [
        "# Testing\n",
        "M2 = np.array([[4,5],[2,3]])\n",
        "M3 = np.array([[3,2,1],[2,2,2],[0,3,1]])\n",
        "M4 = np.random.rand(4, 4)\n",
        "M5 = np.random.rand(5, 5)\n",
        "M6 = np.random.rand(6, 6)\n",
        "M7 = np.random.rand(7, 7)\n",
        "# define the rest of the matrixes up to 7*7, you may use random number generators\n",
        "\n",
        "elapsed_time_recursive=[0]*6\n",
        "\n",
        "# 2x2 matrix\n",
        "start_time = time.time()\n",
        "d1 = det_recursive(M2)\n",
        "end_time = time.time()\n",
        "elapsed_time_recursive[0] = end_time - start_time\n",
        "print(\"Time Elapsed for recursive computation of determinant of M2 : \" , elapsed_time_recursive[0])\n",
        "\n",
        "# 3x3 matrix\n",
        "start_time = time.time()\n",
        "d1 = det_recursive(M3)\n",
        "end_time = time.time()\n",
        "elapsed_time_recursive[1] = end_time - start_time\n",
        "print(\"Time Elapsed for recursive computation of determinant of M3 : \" , elapsed_time_recursive[1])\n",
        "\n",
        "# 4x4 matrix\n",
        "start_time = time.time()\n",
        "d1 = det_recursive(M4)\n",
        "end_time = time.time()\n",
        "elapsed_time_recursive[2] = end_time - start_time\n",
        "print(\"Time Elapsed for recursive computation of determinant of M4 : \" , elapsed_time_recursive[2])\n",
        "\n",
        "# 5x5 matrix\n",
        "start_time = time.time()\n",
        "d1 = det_recursive(M5)\n",
        "end_time = time.time()\n",
        "elapsed_time_recursive[3] = end_time - start_time\n",
        "print(\"Time Elapsed for recursive computation of determinant of M5 : \" , elapsed_time_recursive[3])\n",
        "\n",
        "# 6x6 matrix\n",
        "start_time = time.time()\n",
        "d1 = det_recursive(M6)\n",
        "end_time = time.time()\n",
        "elapsed_time_recursive[4] = end_time - start_time\n",
        "print(\"Time Elapsed for recursive computation of determinant of M6 : \" , elapsed_time_recursive[4])\n",
        "\n",
        "# 7x7 matrix\n",
        "start_time = time.time()\n",
        "d1 = det_recursive(M7)\n",
        "end_time = time.time()\n",
        "elapsed_time_recursive[5] = end_time - start_time\n",
        "print(\"Time Elapsed for recursive computation of determinant of M7 : \" , elapsed_time_recursive[5])\n",
        "\n",
        "# Do the same for the rest of the matrices up to 7*7\n"
      ]
    },
    {
      "cell_type": "markdown",
      "metadata": {
        "id": "iEpWlj-BDed6"
      },
      "source": [
        "### 3.2. Row Echelon\n",
        "Use the function defined in part 1 to find the row echelon form of the matrix and calculate the determinant\n",
        "\n",
        "#### ATTENTION: BEWARE OF THE IMPACT OF EACH OPERATION ON THE DETERMINANT!"
      ]
    },
    {
      "cell_type": "code",
      "execution_count": 194,
      "metadata": {
        "id": "KBRmR8b_Ded6"
      },
      "outputs": [],
      "source": [
        "def det_row_echelon(A):\n",
        "    #CHNAGE THIS PART\n",
        "    \"\"\" Find the determinant of the matrix A, make sure it is a square matrix and raise error otherwise \"\"\"\n",
        "    if A.shape[0] != A.shape[1]:\n",
        "        raise ValueError(\"Input matrix must be square\")\n",
        "\n",
        "    echelon_A = row_echelon(A.copy())\n",
        "\n",
        "    determinant = np.prod(np.diag(echelon_A))\n",
        "\n",
        "    # Adjust determinant based on row swaps\n",
        "    num_swaps = np.count_nonzero(np.diag(echelon_A) == 0)\n",
        "    determinant *= (-1) ** num_swaps\n",
        "\n",
        "    return determinant"
      ]
    },
    {
      "cell_type": "markdown",
      "metadata": {
        "id": "Ys5tLZqwDed-"
      },
      "source": [
        "#### 3.2.1 Test your algorithm\n",
        "Measure the computation time of you recursive algorithm by testing it on the matrixes defined in the previous section."
      ]
    },
    {
      "cell_type": "code",
      "execution_count": 195,
      "metadata": {
        "id": "oQcrjmkPDed_",
        "colab": {
          "base_uri": "https://localhost:8080/"
        },
        "outputId": "47acbd0d-6392-4b62-f9c1-4fd28e41205a"
      },
      "outputs": [
        {
          "output_type": "stream",
          "name": "stdout",
          "text": [
            "Time Elapsed for row_echelon computation of determinant of M2 :  0.0003323554992675781\n",
            "Time Elapsed for row_echelon computation of determinant of M3 :  0.0004353523254394531\n",
            "Time Elapsed for row_echelon computation of determinant of M4 :  0.0077168941497802734\n",
            "Time Elapsed for row_echelon computation of determinant of M5 :  0.0038673877716064453\n",
            "Time Elapsed for row_echelon computation of determinant of M6 :  0.01088857650756836\n",
            "Time Elapsed for row_echelon computation of determinant of M7 :  0.04520750045776367\n"
          ]
        }
      ],
      "source": [
        "# Testing\n",
        "elapsed_time_rowechelon=[0]*6\n",
        "\n",
        "# 2x2 matrix\n",
        "start_time = time.time()\n",
        "d1 = det_row_echelon(M2)\n",
        "end_time= time.time()\n",
        "elapsed_time_rowechelon[0] = end_time - start_time\n",
        "print(\"Time Elapsed for row_echelon computation of determinant of M2 : \" , elapsed_time_rowechelon[0])\n",
        "\n",
        "# 3x3 matrix\n",
        "start_time = time.time()\n",
        "d1 = det_recursive(M3)\n",
        "end_time = time.time()\n",
        "elapsed_time_rowechelon[1] = end_time - start_time\n",
        "print(\"Time Elapsed for row_echelon computation of determinant of M3 : \" , elapsed_time_rowechelon[1])\n",
        "\n",
        "# 4x4 matrix\n",
        "start_time = time.time()\n",
        "d1 = det_recursive(M4)\n",
        "end_time = time.time()\n",
        "elapsed_time_rowechelon[2] = end_time - start_time\n",
        "print(\"Time Elapsed for row_echelon computation of determinant of M4 : \" , elapsed_time_rowechelon[2])\n",
        "\n",
        "# 5x5 matrix\n",
        "start_time = time.time()\n",
        "d1 = det_recursive(M5)\n",
        "end_time = time.time()\n",
        "elapsed_time_rowechelon[3] = end_time - start_time\n",
        "print(\"Time Elapsed for row_echelon computation of determinant of M5 : \" , elapsed_time_rowechelon[3])\n",
        "\n",
        "# 6x6 matrix\n",
        "start_time = time.time()\n",
        "d1 = det_recursive(M6)\n",
        "end_time = time.time()\n",
        "elapsed_time_rowechelon[4] = end_time - start_time\n",
        "print(\"Time Elapsed for row_echelon computation of determinant of M6 : \" , elapsed_time_rowechelon[4])\n",
        "\n",
        "# 7x7 matrix\n",
        "start_time = time.time()\n",
        "d1 = det_recursive(M7)\n",
        "end_time = time.time()\n",
        "elapsed_time_rowechelon[5] = end_time - start_time\n",
        "print(\"Time Elapsed for row_echelon computation of determinant of M7 : \" , elapsed_time_rowechelon[5])\n",
        "\n",
        "# Do the same for the rest of the matrices up to 7*7"
      ]
    },
    {
      "cell_type": "markdown",
      "metadata": {
        "id": "ZMyjG9cJDed_"
      },
      "source": [
        "### 3.3. Compare the computation time of the two proposed methods\n",
        "Try to plot the computation time versus matrix size for both methods using matplotlib functions."
      ]
    },
    {
      "cell_type": "code",
      "execution_count": 196,
      "metadata": {
        "id": "GK6r0afwDed_",
        "colab": {
          "base_uri": "https://localhost:8080/",
          "height": 472
        },
        "outputId": "5801da04-db3f-463b-bbdd-4f63d0c72128"
      },
      "outputs": [
        {
          "output_type": "display_data",
          "data": {
            "text/plain": [
              "<Figure size 640x480 with 1 Axes>"
            ],
            "image/png": "[encoded data removed]"
          },
          "metadata": {}
        }
      ],
      "source": [
        "# Plot the recorded data\n",
        "import matplotlib.pyplot as plt\n",
        "\n",
        "# Matrix sizes\n",
        "matrix_sizes = range(2, 8)\n",
        "\n",
        "# Plotting the results\n",
        "plt.plot(matrix_sizes, elapsed_time_recursive, label='det_recursive')\n",
        "plt.plot(matrix_sizes, elapsed_time_rowechelon, label='det_rowechelon')\n",
        "plt.xlabel('Matrix Size')\n",
        "plt.ylabel('Computation Time (seconds)')\n",
        "plt.title('Comparison of Computation Time for det_recursive and det_rowechelon')\n",
        "plt.legend()\n",
        "plt.grid(True)\n",
        "plt.show()"
      ]
    },
    {
      "cell_type": "markdown",
      "metadata": {
        "id": "NaHfF_teDed_"
      },
      "source": [
        "## 4. EXTRA - 2D and 3D plotting\n",
        "In this part, you are demanded to solve two underdetermined systems of size N=2 and N=3 and plot the hyperplane of the results using matplotlib.\n",
        "For example if a 2*2 system in underdetermined (has infinitely many solutions), the solution space is the span of a vector set consisting of one 2-dimentional vector, thus it can be plotted as a line in the 2D space.\n",
        "\n",
        "Solving this part will provide you with extra points."
      ]
    },
    {
      "cell_type": "code",
      "execution_count": 197,
      "metadata": {
        "id": "tS0PiWFuDed_",
        "colab": {
          "base_uri": "https://localhost:8080/",
          "height": 472
        },
        "outputId": "7db0d002-8818-4f6c-e245-5d084312dd14"
      },
      "outputs": [
        {
          "output_type": "display_data",
          "data": {
            "text/plain": [
              "<Figure size 640x480 with 1 Axes>"
            ],
            "image/png": "[encoded data removed]"
          },
          "metadata": {}
        }
      ],
      "source": [
        "# Plot the solution set\n",
        "A2 = np.array([[1, 2],\n",
        "               [3, 4]])\n",
        "b2 = np.array([5, 6])\n",
        "\n",
        "# Find the solution to the underdetermined system\n",
        "x2 = np.linalg.lstsq(A2, b2, rcond=None)[0]\n",
        "\n",
        "plt.figure()\n",
        "plt.plot([0, x2[0]], [0, x2[1]], label='Solution Space')\n",
        "plt.xlabel('x1')\n",
        "plt.ylabel('x2')\n",
        "plt.title('Hyperplane of Underdetermined System (N=2)')\n",
        "plt.legend()\n",
        "plt.grid(True)\n",
        "plt.show()"
      ]
    },
    {
      "cell_type": "code",
      "source": [
        "A3 = np.array([[1, 2, 3],\n",
        "               [4, 5, 6],\n",
        "               [7, 8, 9]])\n",
        "b3 = np.array([10, 11, 12])\n",
        "\n",
        "# Find the solution to the underdetermined system\n",
        "x3 = np.linalg.lstsq(A3, b3, rcond=None)[0]\n",
        "\n",
        "fig = plt.figure()\n",
        "ax = fig.add_subplot(111, projection='3d')\n",
        "ax.plot([0, x3[0]], [0, x3[1]], [0, x3[2]], label='Solution Space')\n",
        "ax.set_xlabel('x1')\n",
        "ax.set_ylabel('x2')\n",
        "ax.set_zlabel('x3')\n",
        "ax.set_title('Hyperplane of Underdetermined System (N=3)')\n",
        "ax.legend()\n",
        "plt.show()"
      ],
      "metadata": {
        "colab": {
          "base_uri": "https://localhost:8080/",
          "height": 438
        },
        "id": "w4mjxUvCD1m9",
        "outputId": "e18fd6bd-2d5b-496c-d9cd-89339c64a9b9"
      },
      "execution_count": 198,
      "outputs": [
        {
          "output_type": "display_data",
          "data": {
            "text/plain": [
              "<Figure size 640x480 with 1 Axes>"
            ],
            "image/png": "[encoded data removed]"
          },
          "metadata": {}
        }
      ]
    },
    {
      "cell_type": "code",
      "source": [],
      "metadata": {
        "id": "IT0YPeNqD8TC"
      },
      "execution_count": null,
      "outputs": []
    }
  ],
  "metadata": {
    "language_info": {
      "name": "python"
    },
    "orig_nbformat": 4,
    "colab": {
      "provenance": []
    },
    "kernelspec": {
      "name": "python3",
      "display_name": "Python 3"
    }
  },
  "nbformat": 4,
  "nbformat_minor": 0
}